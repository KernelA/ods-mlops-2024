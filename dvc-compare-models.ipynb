{
 "cells": [
  {
   "cell_type": "code",
   "execution_count": 9,
   "metadata": {},
   "outputs": [],
   "source": [
    "import dvc.api\n",
    "import flatten_dict"
   ]
  },
  {
   "cell_type": "code",
   "execution_count": 10,
   "metadata": {},
   "outputs": [],
   "source": [
    "branch_a = \"dvc-base-model\"\n",
    "branch_b = \"dvc-complex-model\""
   ]
  },
  {
   "cell_type": "markdown",
   "metadata": {},
   "source": [
    "# Ветки"
   ]
  },
  {
   "cell_type": "code",
   "execution_count": 11,
   "metadata": {},
   "outputs": [
    {
     "name": "stdout",
     "output_type": "stream",
     "text": [
      "dvc-base-model  vs  dvc-complex-model\n"
     ]
    }
   ],
   "source": [
    "print(branch_a, \" vs \", branch_b)"
   ]
  },
  {
   "cell_type": "markdown",
   "metadata": {},
   "source": [
    "Модели: \n",
    "\n",
    "* Логистическая регрессия с Tf-Idf (dvc-base-model).\n",
    "* Случайный лес с truncated SVD поверх Tf-Idf (dvc-complex-model)."
   ]
  },
  {
   "cell_type": "markdown",
   "metadata": {},
   "source": [
    "# Параметры"
   ]
  },
  {
   "cell_type": "code",
   "execution_count": 12,
   "metadata": {},
   "outputs": [],
   "source": [
    "params_a = flatten_dict.flatten(dvc.api.params_show(rev=branch_a), reducer=\"dot\")\n",
    "params_b = flatten_dict.flatten(dvc.api.params_show(rev=branch_b), reducer=\"dot\")"
   ]
  },
  {
   "cell_type": "code",
   "execution_count": 13,
   "metadata": {},
   "outputs": [],
   "source": [
    "max_length = max(\n",
    "    max(map(len, map(str, params_a.values()))), max(map(len, map(str, params_b.values())))\n",
    ")\n",
    "\n",
    "max_key_length = max(\n",
    "    max(map(len, map(str, params_a.keys()))), max(map(len, map(str, params_b.keys())))\n",
    ")"
   ]
  },
  {
   "cell_type": "code",
   "execution_count": 14,
   "metadata": {},
   "outputs": [
    {
     "name": "stdout",
     "output_type": "stream",
     "text": [
      "Name                               dvc-base-model                                                       dvc-complex-model                                                   \n",
      "model.cls.estimator.C              100                                                                  -                                                                   \n",
      "model.cls.estimator._target_       sklearn.linear_model.LogisticRegression                              sklearn.ensemble.RandomForestClassifier                             \n",
      "model.cls.estimator.max_depth      -                                                                    6                                                                   \n",
      "model.cls.estimator.n_estimators   -                                                                    100                                                                 \n",
      "model.cls.estimator.n_jobs         -                                                                    -1                                                                  \n",
      "model.cls.estimator.random_state   123324                                                               292392340                                                           \n",
      "model.cls.vectorizer._target_      ods_mlops.sms_cls.vectorizer.TfIdfVectorizer                         ods_mlops.sms_cls.vectorizer.SVDVectorizer                          \n",
      "model.cls.vectorizer.n_components  -                                                                    300                                                                 \n",
      "model.cls.vectorizer.n_iter        -                                                                    6                                                                   \n",
      "model.cls.vectorizer.random_state  -                                                                    23239                                                               \n",
      "model.inner_estimator.C            100                                                                  -                                                                   \n",
      "model.inner_estimator._target_     sklearn.linear_model.LogisticRegression                              sklearn.ensemble.RandomForestClassifier                             \n",
      "model.inner_estimator.max_depth    -                                                                    6                                                                   \n",
      "model.inner_estimator.n_estimators -                                                                    100                                                                 \n",
      "model.inner_estimator.n_jobs       -                                                                    -1                                                                  \n",
      "model.inner_estimator.random_state 123324                                                               292392340                                                           \n",
      "vectorizer._target_                ods_mlops.sms_cls.vectorizer.TfIdfVectorizer                         ods_mlops.sms_cls.vectorizer.SVDVectorizer                          \n",
      "vectorizer.n_components            -                                                                    300                                                                 \n",
      "vectorizer.n_iter                  -                                                                    6                                                                   \n",
      "vectorizer.random_state            -                                                                    23239                                                               \n"
     ]
    }
   ],
   "source": [
    "print(f\"{'Name':<{max_key_length}} {branch_a:<{max_length}} {branch_b:<{max_length}}\")\n",
    "\n",
    "for key in sorted(set(params_a.keys()).union(params_b.keys())):\n",
    "    is_a_missing = False\n",
    "    is_b_missing = False\n",
    "\n",
    "    if key not in params_a:\n",
    "        is_a_missing = True\n",
    "\n",
    "    val_a = params_a.get(key)\n",
    "\n",
    "    if key not in params_b:\n",
    "        is_b_missing = True\n",
    "\n",
    "    val_b = params_b.get(key)\n",
    "\n",
    "    if is_a_missing and is_b_missing or val_a == val_b:\n",
    "        continue\n",
    "\n",
    "    if is_a_missing:\n",
    "        val_a = \"-\"\n",
    "    if is_b_missing:\n",
    "        val_b = \"-\"\n",
    "\n",
    "    print(f\"{key:<{max_key_length}} {val_a:<{max_length}} {val_b:<{max_length}}\")"
   ]
  },
  {
   "cell_type": "markdown",
   "metadata": {},
   "source": [
    "#  Метрики"
   ]
  },
  {
   "cell_type": "markdown",
   "metadata": {},
   "source": [
    "Метрики на тесте и валидации получились хуже чем с базовой моделью."
   ]
  },
  {
   "cell_type": "code",
   "execution_count": 15,
   "metadata": {},
   "outputs": [],
   "source": [
    "metrics_a = dvc.api.metrics_show(rev=branch_a)\n",
    "metrics_b = dvc.api.metrics_show(rev=branch_b)"
   ]
  },
  {
   "cell_type": "code",
   "execution_count": 16,
   "metadata": {},
   "outputs": [
    {
     "name": "stdout",
     "output_type": "stream",
     "text": [
      "Name                 dvc-base-model                 dvc-complex-model              Diff                          \n",
      "val_roc_auc          0.9941                         0.9723                         -0.0217                       \n",
      "test_roc_auc         0.9897                         0.9745                         -0.0152                       \n",
      "train_roc_auc        0.9896                         0.9980                         0.0084                        \n"
     ]
    }
   ],
   "source": [
    "print(f\"{'Name':<20} {branch_a:<30} {branch_b:<30} {'Diff':<30}\")\n",
    "\n",
    "for metric_name in metrics_a:\n",
    "    val_a = metrics_a[metric_name]\n",
    "    val_b = metrics_b[metric_name]\n",
    "    print(f\"{metric_name:<20} {val_a:<30.4f} {val_b:<30.4f} {val_b - val_a:<30.4f}\")"
   ]
  }
 ],
 "metadata": {
  "kernelspec": {
   "display_name": "ods-mlops",
   "language": "python",
   "name": "python3"
  },
  "language_info": {
   "codemirror_mode": {
    "name": "ipython",
    "version": 3
   },
   "file_extension": ".py",
   "mimetype": "text/x-python",
   "name": "python",
   "nbconvert_exporter": "python",
   "pygments_lexer": "ipython3",
   "version": "3.10.14"
  }
 },
 "nbformat": 4,
 "nbformat_minor": 2
}
